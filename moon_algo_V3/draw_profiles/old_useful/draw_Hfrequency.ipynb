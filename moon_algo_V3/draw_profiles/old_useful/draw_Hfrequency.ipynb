{
 "cells": [
  {
   "cell_type": "code",
   "execution_count": 1,
   "metadata": {},
   "outputs": [],
   "source": [
    "path = \"../Outputs/\""
   ]
  },
  {
   "cell_type": "code",
   "execution_count": 2,
   "metadata": {},
   "outputs": [],
   "source": [
    "%matplotlib inline  \n",
    "import numpy as np  \n",
    "import matplotlib.pyplot as plt\n",
    "import pandas as pd"
   ]
  },
  {
   "cell_type": "markdown",
   "metadata": {},
   "source": [
    "# $H_{tide}(r,\\omega) $ profiles"
   ]
  },
  {
   "cell_type": "code",
   "execution_count": 3,
   "metadata": {},
   "outputs": [],
   "source": [
    "# Import data\n",
    "filename = path+\"H_profile.txt\"\n",
    "names = [\"r(m)\",\"Htide(W.m-3)\",\"T(days)\",\"n\"]\n",
    "data = pd.read_csv(filename, skipinitialspace=True, sep=\" \", names=names, index_col=False)\n",
    "\n",
    "n = data[\"n\"][0] # nbr of radius\n",
    "nbr_exp = int(data.shape[0]/n) # nbr of experiements\n",
    "\n",
    "#Radius\n",
    "R = data[\"r(m)\"][:n]\n",
    "R = [int(r/1e3) for r in R]\n",
    "\n",
    "#Htide and Period\n",
    "H_matrix = np.zeros((n,nbr_exp),dtype=float)\n",
    "Periods = []\n",
    "for i in range(nbr_exp):\n",
    "    H_matrix[:,i] = data[\"Htide(W.m-3)\"][i*n:(i+1)*n]\n",
    "    Periods.append(round(data[\"T(days)\"][i*n],2))"
   ]
  },
  {
   "cell_type": "code",
   "execution_count": 1,
   "metadata": {
    "scrolled": false
   },
   "outputs": [
    {
     "ename": "NameError",
     "evalue": "name 'plt' is not defined",
     "output_type": "error",
     "traceback": [
      "\u001b[0;31m---------------------------------------------------------------------------\u001b[0m",
      "\u001b[0;31mNameError\u001b[0m                                 Traceback (most recent call last)",
      "\u001b[0;32m<ipython-input-1-04e2cb376fed>\u001b[0m in \u001b[0;36m<module>\u001b[0;34m\u001b[0m\n\u001b[1;32m      1\u001b[0m \u001b[0;31m# Plot\u001b[0m\u001b[0;34m\u001b[0m\u001b[0;34m\u001b[0m\u001b[0;34m\u001b[0m\u001b[0m\n\u001b[0;32m----> 2\u001b[0;31m \u001b[0mfig\u001b[0m\u001b[0;34m,\u001b[0m \u001b[0max\u001b[0m \u001b[0;34m=\u001b[0m \u001b[0mplt\u001b[0m\u001b[0;34m.\u001b[0m\u001b[0msubplots\u001b[0m\u001b[0;34m(\u001b[0m\u001b[0mfigsize\u001b[0m\u001b[0;34m=\u001b[0m\u001b[0;34m(\u001b[0m\u001b[0;36m7\u001b[0m\u001b[0;34m,\u001b[0m\u001b[0;36m10\u001b[0m\u001b[0;34m)\u001b[0m\u001b[0;34m)\u001b[0m\u001b[0;34m\u001b[0m\u001b[0;34m\u001b[0m\u001b[0m\n\u001b[0m\u001b[1;32m      3\u001b[0m \u001b[0mim\u001b[0m\u001b[0;34m=\u001b[0m\u001b[0max\u001b[0m\u001b[0;34m.\u001b[0m\u001b[0mimshow\u001b[0m\u001b[0;34m(\u001b[0m\u001b[0mnp\u001b[0m\u001b[0;34m.\u001b[0m\u001b[0mlog\u001b[0m\u001b[0;34m(\u001b[0m\u001b[0mH_matrix\u001b[0m\u001b[0;34m)\u001b[0m\u001b[0;34m,\u001b[0m \u001b[0morigin\u001b[0m\u001b[0;34m=\u001b[0m\u001b[0;34m'lower'\u001b[0m\u001b[0;34m,\u001b[0m\u001b[0maspect\u001b[0m\u001b[0;34m=\u001b[0m\u001b[0;34m\"auto\"\u001b[0m\u001b[0;34m)\u001b[0m\u001b[0;34m\u001b[0m\u001b[0;34m\u001b[0m\u001b[0m\n\u001b[1;32m      4\u001b[0m \u001b[0;34m\u001b[0m\u001b[0m\n\u001b[1;32m      5\u001b[0m \u001b[0max\u001b[0m\u001b[0;34m.\u001b[0m\u001b[0mset_yticks\u001b[0m\u001b[0;34m(\u001b[0m\u001b[0;34m[\u001b[0m\u001b[0mk\u001b[0m \u001b[0;32mfor\u001b[0m \u001b[0mk\u001b[0m \u001b[0;32min\u001b[0m \u001b[0mrange\u001b[0m\u001b[0;34m(\u001b[0m\u001b[0;36m0\u001b[0m\u001b[0;34m,\u001b[0m\u001b[0mH_matrix\u001b[0m\u001b[0;34m.\u001b[0m\u001b[0mshape\u001b[0m\u001b[0;34m[\u001b[0m\u001b[0;36m0\u001b[0m\u001b[0;34m]\u001b[0m\u001b[0;34m,\u001b[0m\u001b[0;36m5\u001b[0m\u001b[0;34m)\u001b[0m\u001b[0;34m]\u001b[0m\u001b[0;34m)\u001b[0m\u001b[0;34m\u001b[0m\u001b[0;34m\u001b[0m\u001b[0m\n",
      "\u001b[0;31mNameError\u001b[0m: name 'plt' is not defined"
     ]
    }
   ],
   "source": [
    "# Plot\n",
    "fig, ax = plt.subplots(figsize=(7,10))\n",
    "im=ax.imshow(np.log(H_matrix), origin='lower',aspect=\"auto\")\n",
    "\n",
    "ax.set_yticks([k for k in range(0,H_matrix.shape[0],5)])\n",
    "ax.set_yticklabels([R[k] for k in range(0,len(R),5)])\n",
    "\n",
    "step = int(len(Periods)/10)\n",
    "ax.set_xticks([k for k in range(0,len(Periods),step)])\n",
    "ax.set_xticklabels([Periods[k] for k in range(0,len(Periods),step)])\n",
    "\n",
    "plt.ylabel(\"Radius (km)\", fontsize=12)\n",
    "plt.xlabel(\"Orbital period (days)\",fontsize=12)\n",
    "plt.title(\"$H_{tide}$ profiles frequency dependance\")\n",
    "fig.colorbar(im,ax=ax,label='$log(H_{tide})$ (W.m-3)')\n",
    "plt.savefig(\"figures/H-frequency_map.pdf\")"
   ]
  },
  {
   "cell_type": "markdown",
   "metadata": {},
   "source": [
    "# $H_{\\mu} \\cdot  \\Im(\\mu)$ profiles"
   ]
  },
  {
   "cell_type": "code",
   "execution_count": 434,
   "metadata": {},
   "outputs": [],
   "source": [
    "# Import data\n",
    "filename = path+\"Hmu_mu.dat\"\n",
    "names = [\"r(m)\",\"Hmu_mu(W.m-3)\",\"T(days)\",\"n\"]\n",
    "data = pd.read_csv(filename, skipinitialspace=True, sep=\" \", names=names, index_col=False)\n",
    "\n",
    "n = data[\"n\"][0]-1 # nbr of radius -1 here bc in K2_DT start at j=2\n",
    "nbr_exp = int(data.shape[0]/n) # nbr of experiements\n",
    "\n",
    "#Radius\n",
    "R = data[\"r(m)\"][:n]\n",
    "R = [int(r/1e3) for r in R]\n",
    "\n",
    "#Htide and Period\n",
    "H_matrix = np.zeros((n,nbr_exp),dtype=float)\n",
    "Periods = []\n",
    "for i in range(nbr_exp):\n",
    "    H_matrix[:,i] = data[\"Hmu_mu(W.m-3)\"][i*n:(i+1)*n]\n",
    "    Periods.append(round(data[\"T(days)\"][i*n],2))"
   ]
  },
  {
   "cell_type": "code",
   "execution_count": 435,
   "metadata": {},
   "outputs": [],
   "source": [
    "#Optional\n",
    "#substract reference to see variations\n",
    "#_matrix = np.subtract(H_matrix, np.vstack(H_matrix[:,0]))"
   ]
  },
  {
   "cell_type": "code",
   "execution_count": 436,
   "metadata": {},
   "outputs": [
    {
     "data": {
      "image/png": "[encoded data removed]",
      "text/plain": [
       "<Figure size 504x720 with 2 Axes>"
      ]
     },
     "metadata": {
      "needs_background": "light"
     },
     "output_type": "display_data"
    }
   ],
   "source": [
    "# Plot\n",
    "fig, ax = plt.subplots(figsize=(7,10))\n",
    "im=ax.imshow(H_matrix, origin='lower',aspect=\"auto\")\n",
    "\n",
    "ax.set_yticks([k for k in range(0,H_matrix.shape[0],5)])\n",
    "ax.set_yticklabels([R[k] for k in range(0,len(R),5)])\n",
    "\n",
    "step = int(len(Periods)/10) +1\n",
    "ax.set_xticks([k for k in range(0,len(Periods),step)])\n",
    "ax.set_xticklabels([Periods[k] for k in range(0,len(Periods),step)])\n",
    "\n",
    "plt.ylabel(\"Radius (km)\", fontsize=12)\n",
    "plt.xlabel(\"Orbital period (days)\",fontsize=12)\n",
    "plt.title(\"H_{tide} profile frequency dependance\")\n",
    "fig.colorbar(im,ax=ax,label='$log(H_{tide})$ (W.m-3)')\n",
    "plt.savefig(\"Hmu_mu-frequency_map.pdf\")"
   ]
  },
  {
   "cell_type": "markdown",
   "metadata": {},
   "source": [
    "# Individual Profile"
   ]
  },
  {
   "cell_type": "code",
   "execution_count": 432,
   "metadata": {},
   "outputs": [],
   "source": [
    "#Plot individual profile\n",
    "n_indiv = 8\n",
    "T = Periods[n_indiv]\n",
    "H = H_matrix[:,n_indiv]"
   ]
  },
  {
   "cell_type": "code",
   "execution_count": 433,
   "metadata": {
    "scrolled": false
   },
   "outputs": [
    {
     "data": {
      "image/png": "[encoded data removed]",
      "text/plain": [
       "<Figure size 360x576 with 1 Axes>"
      ]
     },
     "metadata": {
      "needs_background": "light"
     },
     "output_type": "display_data"
    }
   ],
   "source": [
    "fig, ax = plt.subplots(figsize=(5,8))\n",
    "ax.plot(H,R)\n",
    "ax.plot(H_matrix[:,0], R, label=\"Reference\")\n",
    "ax.set_xscale(\"log\")\n",
    "plt.title(\"H profile for T={} days\".format(T))\n",
    "plt.legend()\n",
    "plt.xlabel(\"Htide (W.m-3))\", fontsize=12)\n",
    "plt.ylabel(\"Radius (km)\", fontsize=12)\n",
    "plt.show()"
   ]
  },
  {
   "cell_type": "code",
   "execution_count": 420,
   "metadata": {},
   "outputs": [
    {
     "name": "stdout",
     "output_type": "stream",
     "text": [
      "[NbConvertApp] Converting notebook profils.ipynb to script\n",
      "[NbConvertApp] Writing 3886 bytes to profils.py\n"
     ]
    }
   ],
   "source": [
    "#!jupyter nbconvert --to script profils.ipynb"
   ]
  },
  {
   "cell_type": "markdown",
   "metadata": {},
   "source": [
    "# Lunar Mass Calculation"
   ]
  },
  {
   "cell_type": "code",
   "execution_count": 251,
   "metadata": {},
   "outputs": [],
   "source": [
    "R = 1750e3\n",
    "bcrust = 40e3\n",
    "bmagma = 500e3\n",
    "bcore = 350e3\n",
    "bmant = (R-bmagma-bcrust-bcore)\n",
    "\n",
    "rhocrust = 2900\n",
    "rhomagma = 3300\n",
    "rhomant = 3300\n",
    "rhocore = 7800"
   ]
  },
  {
   "cell_type": "code",
   "execution_count": 252,
   "metadata": {},
   "outputs": [],
   "source": [
    "Mcore = 4/3 *np.pi* bcore**3 * rhocore\n",
    "Mmant =  4/3 *np.pi* (bcore+bmant)**3 * rhomant - 4/3 *np.pi* (bcore)**3 * rhomant\n",
    "Mmagma =  4/3 *np.pi* (bcore+bmant+bmagma)**3 * rhomagma - 4/3 *np.pi* (bcore+bmant)**3 * rhomagma\n",
    "Mcrust =  4/3 *np.pi* (bcore+bmant+bmagma+bcrust)**3 * rhocrust - 4/3 *np.pi* (bcore+bmant+bmagma)**3 * rhocrust"
   ]
  },
  {
   "cell_type": "code",
   "execution_count": 253,
   "metadata": {},
   "outputs": [
    {
     "data": {
      "text/plain": [
       "7.428907141455552e+22"
      ]
     },
     "execution_count": 253,
     "metadata": {},
     "output_type": "execute_result"
    }
   ],
   "source": [
    "Mtot = Mcore + Mmant+ Mmagma+Mcrust\n",
    "Mtot"
   ]
  },
  {
   "cell_type": "code",
   "execution_count": 255,
   "metadata": {},
   "outputs": [
    {
     "data": {
      "text/plain": [
       "3309.1935906705535"
      ]
     },
     "execution_count": 255,
     "metadata": {},
     "output_type": "execute_result"
    }
   ],
   "source": [
    "rho_moy = Mtot / (4/3 *np.pi* R**3)\n",
    "rho_moy"
   ]
  }
 ],
 "metadata": {
  "kernelspec": {
   "display_name": "Python 3",
   "language": "python",
   "name": "python3"
  },
  "language_info": {
   "codemirror_mode": {
    "name": "ipython",
    "version": 3
   },
   "file_extension": ".py",
   "mimetype": "text/x-python",
   "name": "python",
   "nbconvert_exporter": "python",
   "pygments_lexer": "ipython3",
   "version": "3.7.6"
  }
 },
 "nbformat": 4,
 "nbformat_minor": 2
}
