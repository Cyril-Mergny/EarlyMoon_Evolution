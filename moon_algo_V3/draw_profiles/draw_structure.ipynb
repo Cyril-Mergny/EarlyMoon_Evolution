{
 "cells": [
  {
   "cell_type": "code",
   "execution_count": 18,
   "metadata": {},
   "outputs": [],
   "source": [
    "#%matplotlib inline \n",
    "%matplotlib qt\n",
    "import numpy as np  \n",
    "import matplotlib.pyplot as plt\n",
    "import pandas as pd"
   ]
  },
  {
   "cell_type": "code",
   "execution_count": 19,
   "metadata": {},
   "outputs": [],
   "source": [
    "r = 1738e3\n",
    "depth = 1000e3"
   ]
  },
  {
   "cell_type": "code",
   "execution_count": 27,
   "metadata": {
    "scrolled": true
   },
   "outputs": [
    {
     "data": {
      "text/plain": [
       "166857.76929217274"
      ]
     },
     "execution_count": 27,
     "metadata": {},
     "output_type": "execute_result"
    }
   ],
   "source": [
    "Vini = 4/3*np.pi*(r**3 - (r-depth)**3)\n",
    "dmag = r - (3*0.8*Vini/4/np.pi)**(1/3)\n",
    "dmag"
   ]
  },
  {
   "cell_type": "code",
   "execution_count": 28,
   "metadata": {},
   "outputs": [],
   "source": [
    "dcrust = 5e3"
   ]
  },
  {
   "cell_type": "code",
   "execution_count": 29,
   "metadata": {},
   "outputs": [
    {
     "ename": "NameError",
     "evalue": "name 'V' is not defined",
     "output_type": "error",
     "traceback": [
      "\u001b[0;31m---------------------------------------------------------------------------\u001b[0m",
      "\u001b[0;31mNameError\u001b[0m                                 Traceback (most recent call last)",
      "\u001b[0;32m<ipython-input-29-bd78cb304519>\u001b[0m in \u001b[0;36m<module>\u001b[0;34m\u001b[0m\n\u001b[1;32m      1\u001b[0m \u001b[0mVcrust\u001b[0m \u001b[0;34m=\u001b[0m \u001b[0;36m4\u001b[0m\u001b[0;34m/\u001b[0m\u001b[0;36m3\u001b[0m\u001b[0;34m*\u001b[0m\u001b[0mnp\u001b[0m\u001b[0;34m.\u001b[0m\u001b[0mpi\u001b[0m\u001b[0;34m*\u001b[0m\u001b[0;34m(\u001b[0m\u001b[0mr\u001b[0m\u001b[0;34m**\u001b[0m\u001b[0;36m3\u001b[0m \u001b[0;34m-\u001b[0m \u001b[0;34m(\u001b[0m\u001b[0mr\u001b[0m\u001b[0;34m-\u001b[0m\u001b[0mdcrust\u001b[0m\u001b[0;34m)\u001b[0m\u001b[0;34m**\u001b[0m\u001b[0;36m3\u001b[0m\u001b[0;34m)\u001b[0m\u001b[0;34m\u001b[0m\u001b[0;34m\u001b[0m\u001b[0m\n\u001b[0;32m----> 2\u001b[0;31m \u001b[0mVcrust\u001b[0m\u001b[0;34m/\u001b[0m\u001b[0mV\u001b[0m\u001b[0;34m*\u001b[0m\u001b[0;36m100\u001b[0m\u001b[0;34m\u001b[0m\u001b[0;34m\u001b[0m\u001b[0m\n\u001b[0m",
      "\u001b[0;31mNameError\u001b[0m: name 'V' is not defined"
     ]
    }
   ],
   "source": [
    "Vcrust = 4/3*np.pi*(r**3 - (r-dcrust)**3)\n",
    "Vcrust/V*100"
   ]
  },
  {
   "cell_type": "markdown",
   "metadata": {},
   "source": [
    "# Orbite evol"
   ]
  },
  {
   "cell_type": "code",
   "execution_count": 20,
   "metadata": {},
   "outputs": [],
   "source": [
    "#Rlim\n",
    "filename = \"../Outputs/rlim_evol.txt\"\n",
    "names = [\"Rlim\",\"Time\",\"ecc\",\"a\",\"kreal\",\"kimag\",\"test\"]\n",
    "data = pd.read_csv(filename, skipinitialspace=True,sep = \" \",index_col=False,names = names)\n",
    "\n",
    "Rlim = np.array(data[\"Rlim\"][1:],dtype = float)\n",
    "Time = np.array(data[\"Time\"][1:],dtype = float)\n",
    "Ecc = np.array(data[\"ecc\"][1:],dtype = float)\n",
    "A = np.array(data[\"a\"][1:],dtype = float)\n",
    "Kreal = np.array(data[\"kreal\"][1:],dtype = float)[1:]\n",
    "Kimag = np.array(data[\"kimag\"][1:],dtype = float)[1:]\n",
    "Meanmelt = np.array(data[\"test\"][1:],dtype = float)[1:]\n",
    "\n",
    "Time = Time/86400/365/1e6\n",
    "Rearth = 6371e3\n",
    "A = A/Rearth\n",
    "Q = (Kreal**2+Kimag**2)**(0.5)/abs(Kimag)"
   ]
  },
  {
   "cell_type": "code",
   "execution_count": 21,
   "metadata": {},
   "outputs": [],
   "source": [
    "fig, ax = plt.subplots(2,2,figsize=(12,10))\n",
    "\n",
    "#ax[0][0].plot(Time[1:],Meanmelt)\n",
    "#ax[0][0].set_ylabel(\"Mean phi melt\")\n",
    "ax[0][0].plot(Time,(r-Rlim)/1e3)\n",
    "ax[0][0].set_ylabel(\"Épaisseur de la croute (km)\")\n",
    "ax[0][0].set_xlabel(\"Time (Myr)\")\n",
    "\n",
    "ax[0][1].plot(Time[1:],Q)\n",
    "ax[0][1].set_ylabel(\"Q facteur de qualité\")\n",
    "ax[0][1].set_xlabel(\"Time (Myr)\")\n",
    "\n",
    "ax[1][1].plot(Time[1:],Kreal)\n",
    "ax[1][1].set_ylabel(\"k2 partie réelle\")\n",
    "ax[1][1].set_xlabel(\"Time (Myr)\")\n",
    "\n",
    "ax[1][0].plot(Time[1:],Kimag)\n",
    "ax[1][0].set_ylabel(\"k2 partie imaginaire\")\n",
    "ax[1][0].set_xlabel(\"Time (Myr)\")\n",
    "\n",
    "plt.savefig(\"../figures/klove_evolution.png\")\n",
    "\n",
    "plt.show()"
   ]
  },
  {
   "cell_type": "markdown",
   "metadata": {},
   "source": [
    "### for plots"
   ]
  },
  {
   "cell_type": "code",
   "execution_count": 66,
   "metadata": {},
   "outputs": [],
   "source": [
    "fig, ax = plt.subplots(1,2, figsize=(6.7,3.4))\n",
    "ax[0].plot(Time,Ecc)\n",
    "ax[0].set_xlabel(r\"time ($Myr$)\")\n",
    "ax[0].set_ylabel(\"eccentricity e\")\n",
    "\n",
    "ax[1].plot(Time,A)\n",
    "ax[1].set_xlabel(r\"time ($Myr$)\")\n",
    "ax[1].set_ylabel(r\"semi-major axis $a/R_{earth}$\")\n",
    "plt.tight_layout()\n",
    "plt.savefig(\"../../../ecc_a.pdf\")\n",
    "plt.show()"
   ]
  },
  {
   "cell_type": "code",
   "execution_count": 10,
   "metadata": {},
   "outputs": [],
   "source": [
    "fin = 150\n",
    "Time = Time[:-fin]\n",
    "Q = Q[:-fin]\n",
    "\n"
   ]
  },
  {
   "cell_type": "code",
   "execution_count": 17,
   "metadata": {},
   "outputs": [],
   "source": [
    "fig, ax = plt.subplots(1,2,figsize=(6.7,3.4))\n",
    "\n",
    "#ax[0][0].plot(Time[1:],Meanmelt)\n",
    "#ax[0][0].set_ylabel(\"Mean phi melt\")\n",
    "ax[0].plot(Time,(r-Rlim)[:-fin]/1e3,'.', markersize = 2)\n",
    "ax[0].set_ylabel(r\"Crust thickness ($km$)\")\n",
    "ax[0].set_xlabel(r\"time ($Myr$)\")\n",
    "\n",
    "ax[1].plot(Time[1:],Q,'.', markersize = 2)\n",
    "ax[1].set_ylabel(r\"Q quality factor\")\n",
    "ax[1].set_xlabel(r\"time ($Myr$)\")\n",
    "\n",
    "\"\"\"\n",
    "ax[1][1].plot(Time[1:],Kreal)\n",
    "ax[1][1].set_ylabel(\"k2 partie réelle\")\n",
    "ax[1][1].set_xlabel(\"time ($Myr$)\")\n",
    "\n",
    "ax[1][0].plot(Time[1:],Kimag)\n",
    "ax[1][0].set_ylabel(\"k2 partie imaginaire\")\n",
    "ax[1][0].set_xlabel(\"time ($Myr$)\")\n",
    "\"\"\"\n",
    "\n",
    "plt.tight_layout()\n",
    "plt.savefig(\"../../../r_Qevo.pdf\")\n",
    "\n",
    "plt.show()"
   ]
  },
  {
   "cell_type": "code",
   "execution_count": 15,
   "metadata": {},
   "outputs": [],
   "source": [
    "plt.rc('font', family='serif', size = '11')\n",
    "plt.rc('text', usetex=True)"
   ]
  },
  {
   "cell_type": "markdown",
   "metadata": {},
   "source": [
    "# Structure evolution"
   ]
  },
  {
   "cell_type": "code",
   "execution_count": 23,
   "metadata": {},
   "outputs": [
    {
     "name": "stderr",
     "output_type": "stream",
     "text": [
      "/Users/mergnycyril/anaconda3/lib/python3.7/site-packages/IPython/core/interactiveshell.py:3063: DtypeWarning: Columns (1,2) have mixed types.Specify dtype option on import or set low_memory=False.\n",
      "  interactivity=interactivity, compiler=compiler, result=result)\n"
     ]
    }
   ],
   "source": [
    "# Import data with delimiter\n",
    "filename = \"../Outputs/structure.txt\"\n",
    "names = names = [\"int\",\"R\",\"rho\",\"vp\",\"vs\",\"eta\",\"D\"]\n",
    "data = pd.read_csv(filename, skipinitialspace=True, sep=\" \",index_col=False,names=names)\n",
    "\n",
    "n = data[\"int\"][0]\n",
    "nbr_exp = int(data[1:].shape[0]/n) # nbr of experiements"
   ]
  },
  {
   "cell_type": "code",
   "execution_count": 24,
   "metadata": {},
   "outputs": [],
   "source": [
    "# Structure\n",
    "R = np.zeros((n,nbr_exp),dtype=float)\n",
    "Rho = np.zeros((n,nbr_exp),dtype=float)\n",
    "vp = np.zeros((n,nbr_exp),dtype=float)\n",
    "vs = np.zeros((n,nbr_exp),dtype=float)\n",
    "eta = np.zeros((n,nbr_exp),dtype=float)\n",
    "D = np.zeros((n,nbr_exp),dtype=float)\n",
    "\n",
    "for i in range(nbr_exp):\n",
    "    R[:,i] = data[\"R\"][1+i*n:(i+1)*n+1]\n",
    "    Rho[:,i] = data[\"rho\"][1+i*n:(i+1)*n+1]\n",
    "    vp[:,i] = data[\"vp\"][1+i*n:(i+1)*n+1]\n",
    "    vs[:,i] = data[\"vs\"][1+i*n:(i+1)*n+1]\n",
    "    eta[:,i] = data[\"eta\"][1+i*n:(i+1)*n+1]\n",
    "    D[:,i] = data[\"D\"][1+i*n:(i+1)*n+1]    "
   ]
  },
  {
   "cell_type": "code",
   "execution_count": 11,
   "metadata": {
    "scrolled": false
   },
   "outputs": [],
   "source": [
    "fig, ax = plt.subplots(1,5,sharey=True, figsize=(12,5))\n",
    "\n",
    "nbr_plot = 1#50\n",
    "start = 0\n",
    "end = 1#nbr_exp\n",
    "\n",
    "for i in range(start,end,nbr_plot):\n",
    "    \n",
    "    ax[0].plot(Rho[:,i], R[:,i])\n",
    "    ax[0].set_xlabel(r\"Density $\\rho$ (kg.m-3)\")\n",
    "    ax[0].set_ylabel(\"Radius (km)\")\n",
    "\n",
    "    ax[1].plot(vp[:,i], R[:,i])\n",
    "    ax[1].set_xlabel(\"Vp (m.s-1)\")\n",
    "\n",
    "    ax[2].plot(vs[:,i], R[:,i])\n",
    "    ax[2].set_xlabel(\"Vs (m.s-1)\")\n",
    "\n",
    "    ax[3].plot(eta[:,i], R[:,i])\n",
    "    ax[3].set_xlabel(\"Viscosity $\\eta$ (Pa.s)\")\n",
    "    ax[3].set_xscale('log')\n",
    "\n",
    "    ax[4].plot(D[:,i], R[:,i],\".\")\n",
    "    ax[4].set_xlabel(\"Diffusivity $D$ (m.s-2)\")\n",
    "\n",
    "plt.savefig(\"../figures/profiles.png\")\n",
    "plt.show()\n",
    "\n"
   ]
  },
  {
   "cell_type": "markdown",
   "metadata": {},
   "source": [
    "# plot visco profile only"
   ]
  },
  {
   "cell_type": "code",
   "execution_count": 58,
   "metadata": {},
   "outputs": [],
   "source": [
    "fig, ax = plt.subplots(figsize=(3.35,3))\n",
    "start = 3100\n",
    "\n",
    "ax.plot(eta[start:,0], R[start:,0]/1e3,color = \"black\",markersize=\"5\")\n",
    "ax.set_xlabel(\"Viscosity $\\eta_c(r)$ (Pa.s)\")\n",
    "ax.set_ylabel(\"Radius $r$ (km)\")\n",
    "ax.set_xscale('log')\n",
    "\n",
    "plt.tight_layout()\n",
    "plt.savefig(\"../../../visco.pdf\")\n",
    "plt.show()"
   ]
  },
  {
   "cell_type": "code",
   "execution_count": 57,
   "metadata": {},
   "outputs": [],
   "source": [
    "plt.rc('font', family='serif', size = '11')\n",
    "plt.rc('text', usetex=True)"
   ]
  },
  {
   "cell_type": "markdown",
   "metadata": {},
   "source": [
    "# Hprofile"
   ]
  },
  {
   "cell_type": "code",
   "execution_count": 38,
   "metadata": {},
   "outputs": [],
   "source": [
    "# Hprofile\n",
    "filename = \"../Outputs/H_profile.txt\"\n",
    "names = [\"H\"]\n",
    "data = pd.read_csv(filename, skipinitialspace=True,index_col=False,names=names)\n",
    "\n",
    "n = int(data[\"H\"][0])\n",
    "nbr_exp = int(data[1:].shape[0]/n) # nbr of experiements\n",
    "\n",
    "\n",
    "H = np.zeros((n,nbr_exp),dtype=float)\n",
    "for i in range(nbr_exp):\n",
    "    H[:,i] = data[\"H\"][1+i*n:(i+1)*n+1]  "
   ]
  },
  {
   "cell_type": "code",
   "execution_count": 67,
   "metadata": {},
   "outputs": [],
   "source": [
    "fig, ax = plt.subplots(1,2,figsize=(6.7,4))\n",
    "#nbr_plot = int(len(T_matrix)/5)\n",
    "\n",
    "nbr_plot = 10\n",
    "start = 0\n",
    "end = nbr_exp\n",
    "\n",
    "ncond = 220\n",
    "\n",
    "for i in range(start,end,nbr_plot):\n",
    "    ax[0].plot(H[:,i][1:], R[:,i][1:]/1e3)\n",
    "    \n",
    "for i in range(start,end,nbr_plot):\n",
    "    ax[1].plot(H[:,i][-ncond:], R[:,i][-ncond:]/1e3)\n",
    "    \n",
    "    \n",
    "    \n",
    "ax[0].set_ylabel(\"Radius ($km$)\")\n",
    "ax[0].set_xlabel(r\"H ($W.m^{-3}$)\")\n",
    "ax[0].set_xscale(r\"log\")\n",
    "ax[0].set_title(\"Lunar interior dissipation\",fontsize=11)\n",
    "\n",
    "ax[1].set_ylabel(\"Radius ($km$)\")\n",
    "ax[1].set_xlabel(r\"H ($W.m^{-3}$)\")\n",
    "ax[1].set_xscale(r\"log\")\n",
    "ax[1].set_title(\"Crust only dissipation\",fontsize=11)\n",
    "\n",
    " \n",
    "plt.tight_layout()\n",
    "#plt.legend()\n",
    "plt.savefig(\"../figures/Hprofile.pdf\")\n",
    "plt.show()"
   ]
  },
  {
   "cell_type": "code",
   "execution_count": null,
   "metadata": {},
   "outputs": [],
   "source": []
  }
 ],
 "metadata": {
  "kernelspec": {
   "display_name": "Python 3",
   "language": "python",
   "name": "python3"
  },
  "language_info": {
   "codemirror_mode": {
    "name": "ipython",
    "version": 3
   },
   "file_extension": ".py",
   "mimetype": "text/x-python",
   "name": "python",
   "nbconvert_exporter": "python",
   "pygments_lexer": "ipython3",
   "version": "3.7.6"
  }
 },
 "nbformat": 4,
 "nbformat_minor": 2
}
