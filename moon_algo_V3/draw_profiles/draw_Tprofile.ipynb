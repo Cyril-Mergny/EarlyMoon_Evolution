{
 "cells": [
  {
   "cell_type": "code",
   "execution_count": 1,
   "metadata": {},
   "outputs": [],
   "source": [
    "#%matplotlib inline  \n",
    "%matplotlib qt\n",
    "import numpy as np  \n",
    "import matplotlib.pyplot as plt\n",
    "import pandas as pd"
   ]
  },
  {
   "cell_type": "code",
   "execution_count": 2,
   "metadata": {},
   "outputs": [
    {
     "data": {
      "text/plain": [
       "996.25943534"
      ]
     },
     "execution_count": 2,
     "metadata": {},
     "output_type": "execute_result"
    }
   ],
   "source": [
    "r = 1713\n",
    "phi = 0.000000000\n",
    "\n",
    "T = 2134 - 0.1724*r - 1.3714*1e-4*r**2 - 4.4/(0.2*phi+0.01)\n",
    "T"
   ]
  },
  {
   "cell_type": "code",
   "execution_count": 3,
   "metadata": {},
   "outputs": [
    {
     "data": {
      "text/plain": [
       "0.6770459528674078"
      ]
     },
     "execution_count": 3,
     "metadata": {},
     "output_type": "execute_result"
    }
   ],
   "source": [
    "T = 1406\n",
    "phi = -22/(T-2134 + 0.1724*r+1.3714e-4*r**2) -0.05\n",
    "phi"
   ]
  },
  {
   "cell_type": "markdown",
   "metadata": {},
   "source": [
    "## Temperature evolution"
   ]
  },
  {
   "cell_type": "code",
   "execution_count": 42,
   "metadata": {},
   "outputs": [],
   "source": [
    "# Import data with delimiter\n",
    "filename = \"../Outputs/radius.txt\"\n",
    "data = pd.read_csv(filename, skipinitialspace=True, sep=\" \",index_col=False,names=[\"R\"])\n",
    "R_matrix = [[]]\n",
    "data = list(np.array(data[\"R\"]))[1:]\n",
    "i = 0\n",
    "for j,elt in enumerate(data): \n",
    "    if elt == \"-\":\n",
    "        R_matrix.append([])\n",
    "        i += 1\n",
    "    else:\n",
    "        R_matrix[i].append(float(elt))\n",
    "R_matrix =  R_matrix[:-1]\n",
    "\n",
    "# Import temperature\n",
    "filename = \"../Outputs/Tcrust_profile.txt\"\n",
    "data = pd.read_csv(filename, skipinitialspace=True, sep=\" \",index_col=False,names=[\"T\"])\n",
    "T_matrix = [[]]\n",
    "data = list(np.array(data[\"T\"]))[1:]\n",
    "i = 0\n",
    "for j,elt in enumerate(data): \n",
    "    if elt == \"-\":\n",
    "        T_matrix.append([])\n",
    "        i += 1\n",
    "    else:\n",
    "        T_matrix[i].append(float(elt))\n",
    "T_matrix =  T_matrix[:-1]"
   ]
  },
  {
   "cell_type": "code",
   "execution_count": 15,
   "metadata": {
    "scrolled": false
   },
   "outputs": [],
   "source": [
    "#Plot\n",
    "nbr_plot = 30\n",
    "start = 0\n",
    "end = len(T_matrix) -100\n",
    "\n",
    "fig, ax = plt.subplots(figsize=(7,10))\n",
    "\n",
    "for i in range(start,end,nbr_plot):\n",
    "    ax.plot(T_matrix[i], R_matrix[i],label = \"{} Myr\".format(i/10))\n",
    "    \n",
    "#for i in range(start,end,nbr_plot):\n",
    "    #ax.plot(T_matrix[i], R_matrix[i],\".\")\n",
    "    \n",
    "    \n",
    "ax.set_ylabel(\"Radius (km)\")\n",
    "ax.set_xlabel(r\"Temperature T(r) (K)\")\n",
    "#plt.legend()\n",
    "plt.savefig(\"../figures/Tcond_profile.pdf\")\n",
    "plt.show()"
   ]
  },
  {
   "cell_type": "code",
   "execution_count": 41,
   "metadata": {},
   "outputs": [],
   "source": [
    "#Plot\n",
    "fig, ax = plt.subplots(figsize=(4,3.35))\n",
    "\n",
    "i = 0\n",
    "ax.plot(T_matrix[i], R_matrix[i],label = \"{} Myr\".format(int(i/10)))\n",
    "\n",
    "\n",
    "i = 617\n",
    "ax.plot(T_matrix[i], R_matrix[i],label = \"{} Myr\".format(0.1))\n",
    "\n",
    "\n",
    "i = 990\n",
    "ax.plot(T_matrix[i], R_matrix[i],label = \"{} Myr\".format(412))\n",
    "\n",
    "i = 1250\n",
    "ax.plot(T_matrix[i], R_matrix[i],label = \"{} Myr\".format(850))\n",
    "    \n",
    "\n",
    "    \n",
    "ax.set_ylabel(r\"Radius ($m$)\")\n",
    "ax.set_xlabel(r\"Temperature T ($K$)\")\n",
    "plt.legend()\n",
    "plt.tight_layout()\n",
    "plt.savefig(\"../../../Tevo.pdf\")\n",
    "plt.show()"
   ]
  },
  {
   "cell_type": "code",
   "execution_count": 35,
   "metadata": {},
   "outputs": [],
   "source": [
    "plt.rc('font', family='serif', size = '11')\n",
    "plt.rc('text', usetex=True)"
   ]
  },
  {
   "cell_type": "markdown",
   "metadata": {},
   "source": [
    "# Temp+ H + $\\phi$ melt"
   ]
  },
  {
   "cell_type": "code",
   "execution_count": 4,
   "metadata": {},
   "outputs": [],
   "source": [
    "# Hprofile\n",
    "filename = \"../Outputs/H_profile.txt\"\n",
    "names = [\"H\"]\n",
    "data = pd.read_csv(filename, skipinitialspace=True,index_col=False,names=names)\n",
    "n = int(data[\"H\"][0])\n",
    "nbr_exp = int(data[1:].shape[0]/n) # nbr of experiements\n",
    "H = np.zeros((n,nbr_exp),dtype=float)\n",
    "for i in range(nbr_exp):\n",
    "    H[:,i] = data[\"H\"][1+i*n:(i+1)*n+1]\n",
    "    \n",
    "# Phi Melt\n",
    "filename = \"../Outputs/melt.txt\"\n",
    "data = pd.read_csv(filename, skipinitialspace=True, sep=\" \",index_col=False,names=[\"melt\"])\n",
    "Phi_matrix = [[]]\n",
    "data = list(np.array(data[\"melt\"]))[1:]\n",
    "i = 0\n",
    "for j,elt in enumerate(data): \n",
    "    if elt == \"-\":\n",
    "        Phi_matrix.append([])\n",
    "        i += 1\n",
    "    else:\n",
    "        Phi_matrix[i].append(float(elt))\n",
    "Phi_matrix =  Phi_matrix[:-1]"
   ]
  },
  {
   "cell_type": "code",
   "execution_count": 5,
   "metadata": {},
   "outputs": [],
   "source": [
    "#Rlim\n",
    "filename = \"../Outputs/rlim_evol.txt\"\n",
    "names = [\"Rlim\",\"Time\",\"ecc\",\"a\",\"kreal\",\"kimag\",\"test\"]\n",
    "data = pd.read_csv(filename, skipinitialspace=True,sep = \" \",index_col=False,names = names)\n",
    "\n",
    "Time = np.array(data[\"Time\"][1:],dtype = float)\n",
    "Time = Time/(86400*365*1e6)"
   ]
  },
  {
   "cell_type": "code",
   "execution_count": 6,
   "metadata": {
    "scrolled": true
   },
   "outputs": [],
   "source": [
    "nbr_plot = 10\n",
    "start = 0\n",
    "end = nbr_exp\n",
    "\n",
    "fig, ax = plt.subplots(1,3,sharey = True, figsize=(13,10))\n",
    "\n",
    "for i in range(start,end,nbr_plot):\n",
    "    ax[0].plot(T_matrix[i], R_matrix[i])\n",
    "    \n",
    "for i in range(start,end,nbr_plot):\n",
    "    ax[1].plot(H[:,i][-len(R_matrix[i])+1:], R_matrix[i][1:])\n",
    "    \n",
    "for i in range(start,end,nbr_plot):\n",
    "    ax[2].plot(Phi_matrix[i], R_matrix[i][1:],label = \"{:.1e} Myr\".format(Time[i]))\n",
    "    \n",
    "    \n",
    "ax[0].set_ylabel(\"Radius (km)\")\n",
    "ax[0].set_xlabel(r\"Temperature T(r) (K)\")\n",
    "ax[1].set_xlabel(r\"H\")\n",
    "ax[1].set_xscale(r\"log\")\n",
    "ax[2].set_xlabel(r\"$\\phi$ melt profile\")\n",
    "\n",
    "ax[2].legend(fontsize=8,loc='center left', bbox_to_anchor=(1, 0.5))\n",
    "fig.suptitle(\"Temperature / Htide profile evolution\")\n",
    "plt.savefig(\"../figures/Tcond_H_phi_profile.pdf\")\n",
    "plt.show()"
   ]
  },
  {
   "cell_type": "markdown",
   "metadata": {},
   "source": [
    "## Plot H profile"
   ]
  },
  {
   "cell_type": "code",
   "execution_count": 11,
   "metadata": {},
   "outputs": [],
   "source": [
    "nbr_plot = 10\n",
    "start = 0\n",
    "end = nbr_exp\n",
    "\n",
    "fig, ax = plt.subplots(figsize=(13,10))\n",
    "\n",
    "for i in range(start,end,nbr_plot):\n",
    "    ax.plot(H[:,i][-len(R_matrix[i])+1:], R_matrix[i][1:])\n",
    "    \n",
    "    \n",
    "ax.set_ylabel(\"Radius (km)\")\n",
    "ax.set_xlabel(r\"H\")\n",
    "ax.set_xscale(r\"log\")\n",
    "\n",
    "plt.savefig(\"../figures/Hprofile.pdf\")\n",
    "plt.show()"
   ]
  },
  {
   "cell_type": "code",
   "execution_count": null,
   "metadata": {},
   "outputs": [],
   "source": []
  }
 ],
 "metadata": {
  "kernelspec": {
   "display_name": "Python 3",
   "language": "python",
   "name": "python3"
  },
  "language_info": {
   "codemirror_mode": {
    "name": "ipython",
    "version": 3
   },
   "file_extension": ".py",
   "mimetype": "text/x-python",
   "name": "python",
   "nbconvert_exporter": "python",
   "pygments_lexer": "ipython3",
   "version": "3.7.6"
  }
 },
 "nbformat": 4,
 "nbformat_minor": 2
}
