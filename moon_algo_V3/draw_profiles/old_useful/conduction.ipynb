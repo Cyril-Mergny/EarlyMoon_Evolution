{
 "cells": [
  {
   "cell_type": "code",
   "execution_count": 1,
   "metadata": {},
   "outputs": [],
   "source": [
    "%matplotlib inline  \n",
    "#%matplotlib\n",
    "import numpy as np\n",
    "import pandas as pd\n",
    "import matplotlib.pyplot as plt\n",
    "import scipy as sc\n",
    "import scipy.integrate as integrate"
   ]
  },
  {
   "cell_type": "code",
   "execution_count": 2,
   "metadata": {},
   "outputs": [],
   "source": [
    "def create_matrix(R,T,H,dt,mode=\"base_temp\"):\n",
    "    \"\"\"\n",
    "    Ouputs tridag and source coefficients necessary\n",
    "    to solve the tridiagonal matrix system\n",
    "    \"\"\" \n",
    "    n = T.shape[1]\n",
    "    dr = R[1]-R[0]\n",
    "    D = [1e-6 for k in range(n+1)] #n+1 because we enter T[:n-1]\n",
    "    Cp = [1000 for k in range(n+1)]\n",
    "    \n",
    "    Diagonals = np.zeros((4,n))\n",
    "    if mode == \"base_temp\":\n",
    "        Diagonals[0,0] = 0   # ct\n",
    "        Diagonals[1,0] = 1 # bt\n",
    "        Diagonals[2,0] = 0   # at\n",
    "        Diagonals[3,0] = T[0,0]+H[0]*dt/Cp[0] \n",
    "    \n",
    "    elif mode == \"base_flux\":\n",
    "        Diagonals[0,0] = -D[0]*dt/(R[1]-R[0])**2     # ct\n",
    "        Diagonals[1,0] = 1/2 +D[0]*dt/(R[1]-R[0])**2 # bt\n",
    "        Diagonals[2,0] = 0                           # at\n",
    "        Diagonals[3,0] = 0.5*T[0,0]+H[0]*dt/2/Cp[0]  # st\n",
    "    \n",
    "    for i in range(1,n-1):\n",
    "        Dp = (D[i]+D[i+1])/2 # D_i+1/2\n",
    "        Dm = (D[i-1]+D[i])/2 # D_i-1/2\n",
    "        \n",
    "        Diagonals[0,i] = -dt/(R[i+1]-R[i-1])*(D[i]/R[i] + Dp/(R[i+1]-R[i]))#DiagU\n",
    "        Diagonals[1,i] = 0.5 + dt/(R[i+1]-R[i-1])*(Dp/(R[i+1]-R[i]) + Dm/(R[i]-R[i-1]))\n",
    "        Diagonals[2,i] = dt/(R[i+1]-R[i-1])*(D[i]/R[i] - Dm/(R[i]-R[i-1])) #DiagL   \n",
    "        Diagonals[3,i] = 0.5*T[0,i]+H[i]*dt/2/Cp[i]\n",
    "    \n",
    "    Diagonals[0,n-1] = 0\n",
    "    Diagonals[1,n-1] = 1\n",
    "    Diagonals[2,n-1] = 0\n",
    "    Diagonals[3,n-1] = T[0,n-1] #H[n-1]*dt/Cp[n-1] \n",
    "    \n",
    "    return(Diagonals)"
   ]
  },
  {
   "cell_type": "code",
   "execution_count": 3,
   "metadata": {},
   "outputs": [],
   "source": [
    "def tridag(at,bt,ct,rt,u):\n",
    "    \"\"\"\n",
    "    Solve tridiagonal matrix M*u=rt\n",
    "    n is the size of the square matrix\n",
    "    returns the solution vector u\n",
    "    \"\"\"\n",
    "    n = np.size(rt)\n",
    "    gamt = [0 for k in range(n)]\n",
    " \n",
    "    bett = bt[0]\n",
    "    u[0] = rt[0]/bett\n",
    "    for j in range(1,n):\n",
    "        gamt[j] = ct[j-1] / bett\n",
    "        bett = bt[j]-at[j]*gamt[j]\n",
    "        u[j] = (rt[j]-at[j]*u[j-1]) / bett\n",
    "    \n",
    "    for j in range(n-2,-1,-1):\n",
    "        u[j] = u[j]-gamt[j+1]*u[j+1]  \n",
    "    return(u)"
   ]
  },
  {
   "cell_type": "code",
   "execution_count": 4,
   "metadata": {},
   "outputs": [],
   "source": [
    "def start_conduction(R, T, H ,time=0.1, dt=0.001, n=50, mode=\"base_temp\"):\n",
    "\n",
    "    # Loop over timesteps\n",
    "    for i in range(int(time/dt)):\n",
    "        T[0,:] = T[1,:]\n",
    "        #print('time = {}'.format((i+1)*dt))\n",
    "        Diagonals = create_matrix(R,T[:,:],H,dt,mode) # Create tridag system of equations \n",
    "        T[1,:] = tridag(Diagonals[2],Diagonals[1],Diagonals[0],Diagonals[3],T[1,:]) # Solve system\n",
    "        \n",
    "    return(T)"
   ]
  },
  {
   "cell_type": "markdown",
   "metadata": {},
   "source": [
    "---\n",
    "### Run conduction"
   ]
  },
  {
   "cell_type": "code",
   "execution_count": 7,
   "metadata": {},
   "outputs": [],
   "source": [
    "# Import temperature\n",
    "filename = \"../Outputs/Tcrust_profile.txt\"\n",
    "data_T = pd.read_csv(filename, skipinitialspace=True, sep=\" \",index_col=False,names=[\"T\"])"
   ]
  },
  {
   "cell_type": "code",
   "execution_count": 14,
   "metadata": {},
   "outputs": [],
   "source": [
    "# Time parameters\n",
    "time =  0.1 *1e6*365*86400\n",
    "dt = 0.001 *1e6*365*86400\n",
    "\n",
    "# Radius and Heat\n",
    "nlay = int(data[\"n\"][0]/5) #nbr of discrete radius in the crust\n",
    "n = nlay\n",
    "R = data[\"R\"][:].to_numpy()[nlay*4:]\n",
    "H = data[\"H\"][:].to_numpy()[nlay*4:]\n",
    "rho = 2900\n",
    "H = H/rho\n",
    "\n",
    "# Temperature profile\n",
    "T = np.zeros((2,n))\n",
    "T_ini = data_T[\"T\"].to_numpy()\n",
    "T[1]=T_ini\n",
    "\n",
    "#Call function\n",
    "T = start_conduction(R, T, H, time, dt, n, mode=\"base_temp\")"
   ]
  },
  {
   "cell_type": "code",
   "execution_count": 41,
   "metadata": {},
   "outputs": [],
   "source": [
    "np.savetxt(\"Tcrust_profile.txt\",T[1])"
   ]
  },
  {
   "cell_type": "code",
   "execution_count": 57,
   "metadata": {
    "scrolled": false
   },
   "outputs": [
    {
     "data": {
      "image/png": "[encoded data removed]",
      "text/plain": [
       "<Figure size 432x504 with 1 Axes>"
      ]
     },
     "metadata": {
      "needs_background": "light"
     },
     "output_type": "display_data"
    }
   ],
   "source": [
    "#Plot\n",
    "fig, ax = plt.subplots(figsize=(6,7))\n",
    "ax.plot(T[1,:],R,'.',color='blue', label = \"Numeric\")\n",
    "ax.set_ylabel(\"Radius\")\n",
    "ax.set_xlabel(r\"Temperature\")\n",
    "plt.legend()\n",
    "plt.savefig(\"../figures/Tcrust_profile.png\")\n",
    "#plt.show()"
   ]
  },
  {
   "cell_type": "code",
   "execution_count": 2,
   "metadata": {},
   "outputs": [],
   "source": [
    "import numpy as np"
   ]
  },
  {
   "cell_type": "code",
   "execution_count": 43,
   "metadata": {},
   "outputs": [
    {
     "name": "stdout",
     "output_type": "stream",
     "text": [
      "[1710000.0, 1710400.0, 1710800.0] ... [1749200.0, 1749600.0, 1750000.0]\n"
     ]
    }
   ],
   "source": [
    "n = 100\n",
    "R_base,R_surf = 1710*1e3, 1750*1e3\n",
    "step = (R_surf-R_base)/n\n",
    "R = [R_base +step*k for k in range(n+1)]\n",
    "print(R[:3],\"...\",R[-3:])"
   ]
  },
  {
   "cell_type": "code",
   "execution_count": 46,
   "metadata": {},
   "outputs": [
    {
     "name": "stdout",
     "output_type": "stream",
     "text": [
      "Calculated vol =   1.504462638409835e+18\n",
      "Exact vol =  1.5044626451118991e+18\n"
     ]
    }
   ],
   "source": [
    "vol = 0\n",
    "for i in range(n):\n",
    "    vol += 4*np.pi*((R[i]+R[i+1])/2)**2*(R[i+1]-R[i])\n",
    "    \n",
    "print(\"Calculated vol =  \", vol)\n",
    "print(\"Exact vol = \", 4/3*np.pi*(R[-1]**3-R[0]**3))"
   ]
  },
  {
   "cell_type": "code",
   "execution_count": 39,
   "metadata": {},
   "outputs": [
    {
     "data": {
      "text/plain": [
       "1750000.0"
      ]
     },
     "execution_count": 39,
     "metadata": {},
     "output_type": "execute_result"
    }
   ],
   "source": [
    "R[-1]"
   ]
  }
 ],
 "metadata": {
  "kernelspec": {
   "display_name": "Python 3",
   "language": "python",
   "name": "python3"
  },
  "language_info": {
   "codemirror_mode": {
    "name": "ipython",
    "version": 3
   },
   "file_extension": ".py",
   "mimetype": "text/x-python",
   "name": "python",
   "nbconvert_exporter": "python",
   "pygments_lexer": "ipython3",
   "version": "3.7.6"
  }
 },
 "nbformat": 4,
 "nbformat_minor": 2
}
