{
 "cells": [
  {
   "cell_type": "code",
   "execution_count": 10,
   "metadata": {},
   "outputs": [],
   "source": [
    "import pandas as pd"
   ]
  },
  {
   "cell_type": "markdown",
   "metadata": {},
   "source": [
    "## !cd planet_conduction ; python ini_Tprofile.py\n",
    "DeltaT = 0.1\n",
    "tresh = 2e-3\n",
    "i = 0\n",
    "while DeltaT > tresh and i < 10:\n",
    "    i += 1\n",
    "    print('---------')\n",
    "    !cd planet_profile ; gfortran -o terminal.out planet_profile.f90 Internal_structure.f90 Melt_models.f90 Rheology.f90\n",
    "    !cd planet_tides ; gfortran -o terminal.out planet_tide.f90 k2_Dt.f90 Pot_Strain_Func.f90 Tidal_heating_map_output.f90 ; ./terminal.out\n",
    "    !cd planet_conduction ; python3 planet_conduction.py\n",
    "    \n",
    "    f = open(\"planet_conduction/DeltaT.txt\", \"r\")\n",
    "    DeltaT = float(f.read())\n",
    "    print(\"DT = \", DeltaT)\n",
    "    f.close()"
   ]
  },
  {
   "cell_type": "markdown",
   "metadata": {},
   "source": [
    "___\n",
    "## Flux Map "
   ]
  },
  {
   "cell_type": "code",
   "execution_count": 78,
   "metadata": {
    "scrolled": true
   },
   "outputs": [
    {
     "data": {
      "text/plain": [
       "-2.5245143329098028"
      ]
     },
     "execution_count": 78,
     "metadata": {},
     "output_type": "execute_result"
    }
   ],
   "source": [
    "file = open(\"Outputs/Tcrust_profile.txt\",\"r\")\n",
    "Tprofile = file.read().split('\\n')[:-1]\n",
    "Tprofile = [float(T) for T in Tprofile]\n",
    "flux = (-Tprofile[0]+Tprofile[1])#€/5000\n",
    "file.close()\n",
    "fluxytr're"
   ]
  },
  {
   "cell_type": "code",
   "execution_count": 14,
   "metadata": {},
   "outputs": [],
   "source": [
    "%matplotlib inline  \n",
    "#%matplotlib\n",
    "import numpy as np\n",
    "import pandas as pd\n",
    "import matplotlib.pyplot as plt\n",
    "import scipy as sc\n",
    "import scipy.integrate as integrate"
   ]
  },
  {
   "cell_type": "code",
   "execution_count": 71,
   "metadata": {},
   "outputs": [],
   "source": [
    "Flux_matrix = np.zeros((5,12))"
   ]
  },
  {
   "cell_type": "code",
   "execution_count": 1,
   "metadata": {},
   "outputs": [
    {
     "ename": "NameError",
     "evalue": "name 'Flux_matrix' is not defined",
     "output_type": "error",
     "traceback": [
      "\u001b[0;31m---------------------------------------------------------------------------\u001b[0m",
      "\u001b[0;31mNameError\u001b[0m                                 Traceback (most recent call last)",
      "\u001b[0;32m<ipython-input-1-3e573ccb4e8f>\u001b[0m in \u001b[0;36m<module>\u001b[0;34m\u001b[0m\n\u001b[0;32m----> 1\u001b[0;31m \u001b[0mFlux_matrix\u001b[0m\u001b[0;34m[\u001b[0m\u001b[0;36m0\u001b[0m\u001b[0;34m]\u001b[0m \u001b[0;34m=\u001b[0m \u001b[0;34m[\u001b[0m\u001b[0;36m0\u001b[0m\u001b[0;34m,\u001b[0m\u001b[0;36m0\u001b[0m\u001b[0;34m,\u001b[0m\u001b[0;36m0\u001b[0m\u001b[0;34m,\u001b[0m\u001b[0;34m-\u001b[0m\u001b[0;36m25\u001b[0m\u001b[0;34m,\u001b[0m\u001b[0;34m-\u001b[0m\u001b[0;36m43.6\u001b[0m\u001b[0;34m,\u001b[0m\u001b[0;34m-\u001b[0m\u001b[0;36m48\u001b[0m\u001b[0;34m,\u001b[0m\u001b[0;34m-\u001b[0m\u001b[0;36m50\u001b[0m\u001b[0;34m,\u001b[0m\u001b[0;34m-\u001b[0m\u001b[0;36m50\u001b[0m\u001b[0;34m,\u001b[0m\u001b[0;34m-\u001b[0m\u001b[0;36m50\u001b[0m\u001b[0;34m,\u001b[0m\u001b[0;34m-\u001b[0m\u001b[0;36m50\u001b[0m\u001b[0;34m,\u001b[0m\u001b[0;34m-\u001b[0m\u001b[0;36m50\u001b[0m\u001b[0;34m,\u001b[0m\u001b[0;34m-\u001b[0m\u001b[0;36m50\u001b[0m\u001b[0;34m]\u001b[0m\u001b[0;34m\u001b[0m\u001b[0;34m\u001b[0m\u001b[0m\n\u001b[0m\u001b[1;32m      2\u001b[0m \u001b[0mFlux_matrix\u001b[0m\u001b[0;34m[\u001b[0m\u001b[0;36m1\u001b[0m\u001b[0;34m]\u001b[0m \u001b[0;34m=\u001b[0m \u001b[0;34m[\u001b[0m\u001b[0;36m0\u001b[0m\u001b[0;34m,\u001b[0m\u001b[0;36m0\u001b[0m\u001b[0;34m,\u001b[0m\u001b[0;36m0\u001b[0m\u001b[0;34m,\u001b[0m\u001b[0;36m0\u001b[0m\u001b[0;34m,\u001b[0m\u001b[0;36m0\u001b[0m\u001b[0;34m,\u001b[0m\u001b[0;36m0\u001b[0m\u001b[0;34m,\u001b[0m\u001b[0;34m-\u001b[0m\u001b[0;36m5\u001b[0m\u001b[0;34m,\u001b[0m\u001b[0;34m-\u001b[0m\u001b[0;36m27\u001b[0m\u001b[0;34m,\u001b[0m\u001b[0;34m-\u001b[0m\u001b[0;36m38\u001b[0m\u001b[0;34m,\u001b[0m\u001b[0;34m-\u001b[0m\u001b[0;36m44\u001b[0m\u001b[0;34m,\u001b[0m\u001b[0;34m-\u001b[0m\u001b[0;36m50\u001b[0m\u001b[0;34m,\u001b[0m\u001b[0;34m-\u001b[0m\u001b[0;36m50\u001b[0m\u001b[0;34m]\u001b[0m\u001b[0;34m\u001b[0m\u001b[0;34m\u001b[0m\u001b[0m\n\u001b[1;32m      3\u001b[0m \u001b[0mFlux_matrix\u001b[0m\u001b[0;34m[\u001b[0m\u001b[0;36m2\u001b[0m\u001b[0;34m]\u001b[0m \u001b[0;34m=\u001b[0m \u001b[0;34m[\u001b[0m\u001b[0;36m0\u001b[0m\u001b[0;34m,\u001b[0m\u001b[0;36m0\u001b[0m\u001b[0;34m,\u001b[0m\u001b[0;36m0\u001b[0m\u001b[0;34m,\u001b[0m\u001b[0;36m0\u001b[0m\u001b[0;34m,\u001b[0m\u001b[0;36m0\u001b[0m\u001b[0;34m,\u001b[0m\u001b[0;36m0\u001b[0m\u001b[0;34m,\u001b[0m\u001b[0;36m0\u001b[0m\u001b[0;34m,\u001b[0m\u001b[0;36m0\u001b[0m\u001b[0;34m,\u001b[0m\u001b[0;36m0\u001b[0m\u001b[0;34m,\u001b[0m\u001b[0;34m-\u001b[0m\u001b[0;36m16.98\u001b[0m\u001b[0;34m,\u001b[0m\u001b[0;34m-\u001b[0m\u001b[0;36m47.638\u001b[0m\u001b[0;34m,\u001b[0m\u001b[0;34m-\u001b[0m\u001b[0;36m50\u001b[0m\u001b[0;34m]\u001b[0m\u001b[0;34m\u001b[0m\u001b[0;34m\u001b[0m\u001b[0m\n\u001b[1;32m      4\u001b[0m \u001b[0mFlux_matrix\u001b[0m\u001b[0;34m[\u001b[0m\u001b[0;36m3\u001b[0m\u001b[0;34m]\u001b[0m \u001b[0;34m=\u001b[0m \u001b[0;34m[\u001b[0m\u001b[0;36m0\u001b[0m\u001b[0;34m,\u001b[0m\u001b[0;36m0\u001b[0m\u001b[0;34m,\u001b[0m\u001b[0;36m0\u001b[0m\u001b[0;34m,\u001b[0m\u001b[0;36m0\u001b[0m\u001b[0;34m,\u001b[0m\u001b[0;36m0\u001b[0m\u001b[0;34m,\u001b[0m\u001b[0;36m0\u001b[0m\u001b[0;34m,\u001b[0m\u001b[0;36m0\u001b[0m\u001b[0;34m,\u001b[0m\u001b[0;36m0\u001b[0m\u001b[0;34m,\u001b[0m\u001b[0;36m0\u001b[0m\u001b[0;34m,\u001b[0m\u001b[0;36m0\u001b[0m\u001b[0;34m,\u001b[0m\u001b[0;34m-\u001b[0m\u001b[0;36m41.33\u001b[0m\u001b[0;34m,\u001b[0m\u001b[0;34m-\u001b[0m\u001b[0;36m49.5\u001b[0m\u001b[0;34m]\u001b[0m\u001b[0;34m\u001b[0m\u001b[0;34m\u001b[0m\u001b[0m\n\u001b[1;32m      5\u001b[0m \u001b[0mFlux_matrix\u001b[0m\u001b[0;34m[\u001b[0m\u001b[0;36m4\u001b[0m\u001b[0;34m]\u001b[0m \u001b[0;34m=\u001b[0m \u001b[0;34m[\u001b[0m\u001b[0;36m0\u001b[0m\u001b[0;34m,\u001b[0m\u001b[0;36m0\u001b[0m\u001b[0;34m,\u001b[0m\u001b[0;36m0\u001b[0m\u001b[0;34m,\u001b[0m\u001b[0;36m0\u001b[0m\u001b[0;34m,\u001b[0m\u001b[0;36m0\u001b[0m\u001b[0;34m,\u001b[0m\u001b[0;36m0\u001b[0m\u001b[0;34m,\u001b[0m\u001b[0;36m0\u001b[0m\u001b[0;34m,\u001b[0m\u001b[0;36m0\u001b[0m\u001b[0;34m,\u001b[0m\u001b[0;36m0\u001b[0m\u001b[0;34m,\u001b[0m\u001b[0;36m0\u001b[0m\u001b[0;34m,\u001b[0m\u001b[0;34m-\u001b[0m\u001b[0;36m31.89\u001b[0m\u001b[0;34m,\u001b[0m\u001b[0;34m-\u001b[0m\u001b[0;36m50\u001b[0m\u001b[0;34m]\u001b[0m\u001b[0;34m\u001b[0m\u001b[0;34m\u001b[0m\u001b[0m\n",
      "\u001b[0;31mNameError\u001b[0m: name 'Flux_matrix' is not defined"
     ]
    }
   ],
   "source": [
    "Flux_matrix[0] = [0,0,0,-25,-43.6,-48,-50,-50,-50,-50,-50,-50]\n",
    "Flux_matrix[1] = [0,0,0,0,0,0,-5,-27,-38,-44,-50,-50] \n",
    "Flux_matrix[2] = [0,0,0,0,0,0,0,0,0,-16.98,-47.638,-50]\n",
    "Flux_matrix[3] = [0,0,0,0,0,0,0,0,0,0,-41.33,-49.5]\n",
    "Flux_matrix[4] = [0,0,0,0,0,0,0,0,0,0,-31.89,-50]"
   ]
  },
  {
   "cell_type": "code",
   "execution_count": 73,
   "metadata": {},
   "outputs": [],
   "source": [
    "#Flux_matrix = 3*Flux_matrix/2000"
   ]
  },
  {
   "cell_type": "code",
   "execution_count": 74,
   "metadata": {},
   "outputs": [],
   "source": [
    "Ecc = [0.01, 0.05,0.1,0.15,0.2]"
   ]
  },
  {
   "cell_type": "code",
   "execution_count": 76,
   "metadata": {
    "scrolled": false
   },
   "outputs": [
    {
     "data": {
      "image/png": "[encoded data removed]",
      "text/plain": [
       "<Figure size 576x648 with 2 Axes>"
      ]
     },
     "metadata": {
      "needs_background": "light"
     },
     "output_type": "display_data"
    }
   ],
   "source": [
    "# Plot\n",
    "fig, ax = plt.subplots(figsize=(8,9))\n",
    "im=ax.imshow(Flux_matrix, origin='lower',aspect=\"auto\")\n",
    "\n",
    "ax.set_yticks([k for k in range(Flux_matrix.shape[0])])\n",
    "ax.set_yticklabels(Ecc)\n",
    "ax.set_xticks([k for k in range(Flux_matrix.shape[1])])\n",
    "ax.set_xticklabels([1,2,3,4,5,6,7,8,9,10,15,20])\n",
    "\n",
    "plt.ylabel(\"Eccentricity\", fontsize=12)\n",
    "plt.xlabel(\"Orbital period (days)\",fontsize=12)\n",
    "plt.title(\"Base Flux dependance\")\n",
    "fig.colorbar(im,ax=ax,label='Flux value')\n",
    "plt.savefig(\"H-frequency_map.pdf\")"
   ]
  },
  {
   "cell_type": "markdown",
   "metadata": {},
   "source": [
    "---\n",
    "### Zeta Coefficient influence on Htide"
   ]
  },
  {
   "cell_type": "code",
   "execution_count": 26,
   "metadata": {},
   "outputs": [],
   "source": [
    "Ecc = np.array([k*0.005 for k in range(1,101)])\n",
    "X = [k for k in range(100)]"
   ]
  },
  {
   "cell_type": "code",
   "execution_count": 38,
   "metadata": {},
   "outputs": [
    {
     "data": {
      "image/png": "[encoded data removed]",
      "text/plain": [
       "<Figure size 360x504 with 1 Axes>"
      ]
     },
     "metadata": {
      "needs_background": "light"
     },
     "output_type": "display_data"
    }
   ],
   "source": [
    "fig, ax = plt.subplots(figsize=(5,7))\n",
    "ax.plot(Ecc,Ecc**2,label='$e^2$')\n",
    "ax.plot(Ecc,Zeta,label='$\\zeta$')\n",
    "plt.legend()\n",
    "ax.set_ylabel(\"Coefficient ($e^2$or $\\zeta$) \")\n",
    "ax.set_xlabel(\"Eccentricity\")\n",
    "plt.savefig(\"zeta_ecc2.png\")\n",
    "plt.show()"
   ]
  },
  {
   "cell_type": "code",
   "execution_count": 8,
   "metadata": {},
   "outputs": [],
   "source": [
    "Zeta =  [  2.5011250739281898e-5, 1.0018011445611652e-4,2.2591259539617159e-4,4.0288760371637311e-4\n",
    ",6.3206027621642846e-4\n",
    ",9.1466695769681916e-4\n",
    ",1.2522309388190989e-3\n",
    ",1.6465701765495666e-3\n",
    ",2.0998067151982158e-3\n",
    ",2.6143769049102317e-3\n",
    ",3.1930441775697704e-3\n",
    ",3.8389111518700725e-3\n",
    ",4.5554378483250169e-3\n",
    ",5.3464581130709399e-3\n",
    ",6.2161963674505216e-3\n",
    ",7.1692960358140101e-3\n",
    ",8.2108349781944145e-3\n",
    ",9.3463548358890813e-3\n",
    ",1.0581895258935325e-2\n",
    ",1.1924012924290461e-2\n",
    ",1.3379830426616446e-2\n",
    ",1.4957059880689405e-2\n",
    ",1.6664048636992834e-2\n",
    ",1.8509831840972324e-2\n",
    ",2.0504165168718613e-2\n",
    ",2.2657583610612930e-2\n",
    ",2.4981465161898087e-2\n",
    ",2.7488091119597657e-2\n",
    ",3.0190685358114422e-2\n",
    ",3.3103531660680474e-2\n",
    ",3.6242032922928880e-2\n",
    ",3.9622765814948446e-2\n",
    ",4.3263629714295093e-2\n",
    ",4.7183923007602158e-2\n",
    ",5.1404414098609963e-2\n",
    ",5.5947530421103731e-2\n",
    ",6.0837457026815811e-2\n",
    ",6.6100229063100535e-2\n",
    ",7.1763971867589427e-2\n",
    ",7.7859009928080369e-2\n",
    ",8.4418081918323840e-2\n",
    ",9.1476457801716982e-2\n",
    ",9.9072270030558462e-2,\n",
    "0.10724669524378433,\n",
    "  0.11604412792861718,\n",
    "  0.12551260317747154,\n",
    "  0.13570403440198003,\n",
    "  0.14667444238558497,\n",
    "  0.15848449650099361,\n",
    "  0.17119982707294934,\n",
    "  0.18489132881416998,\n",
    "  0.19963585603464884,\n",
    "  0.21551658585764849,\n",
    "  0.23262361465413783,\n",
    "  0.25105468486158045,\n",
    "  0.27091540884523269,\n",
    "  0.29232066229465781,\n",
    "  0.31539495930743022,\n",
    "  0.34027344212942257,\n",
    "  0.36710285118854036,\n",
    "  0.39604276934626537,\n",
    "  0.42726608979905734,\n",
    "  0.46096133595365840,\n",
    "  0.49733340024034511,\n",
    "  0.53660526763627270,\n",
    "  0.57901973096203596,\n",
    "  0.62484128117145288,\n",
    "  0.67435849858863950,\n",
    "  0.72788515081923577,\n",
    "  0.78576450051499491,\n",
    "  0.84837095505601690,\n",
    "  0.91611345306772329,\n",
    "  0.98943889735937374,\n",
    "1.0688364483342441,\n",
    "1.1548398071768187,\n",
    "1.2480347205488820,\n",
    "1.3490623094302392,\n",
    "1.4586252784761538,\n",
    "1.5774943115518774,\n",
    "1.7065151850193219,\n",
    "1.8466175557146802,\n",
    "1.9988203767176658,\n",
    "2.1642467332449300,\n",
    "2.3441315492889818,\n",
    "2.5398346450091402,\n",
    "2.7528544369299790,\n",
    "2.9848447085574952,\n",
    "3.2376261330511862,\n",
    "3.5132137920337181,\n",
    "3.8138333531121775,\n",
    "4.1419466319978229,\n",
    "4.5002788370747959,\n",
    "4.8918516638487919,\n",
    "5.3200082929552481,\n",
    "5.7884662926756105,\n",
    "6.3013524404639769,\n",
    "6.8632545981706459,\n",
    "7.4792778641704212,\n",
    "8.1551081582866942,\n",
    "8.8970889386166778]\n"
   ]
  }
 ],
 "metadata": {
  "kernelspec": {
   "display_name": "Python 3",
   "language": "python",
   "name": "python3"
  },
  "language_info": {
   "codemirror_mode": {
    "name": "ipython",
    "version": 3
   },
   "file_extension": ".py",
   "mimetype": "text/x-python",
   "name": "python",
   "nbconvert_exporter": "python",
   "pygments_lexer": "ipython3",
   "version": "3.7.7"
  }
 },
 "nbformat": 4,
 "nbformat_minor": 2
}
